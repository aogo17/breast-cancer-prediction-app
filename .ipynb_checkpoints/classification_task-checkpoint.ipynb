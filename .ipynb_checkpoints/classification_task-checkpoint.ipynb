{
 "cells": [
  {
   "cell_type": "code",
   "execution_count": 2,
   "id": "31c8eec4",
   "metadata": {},
   "outputs": [
    {
     "name": "stdout",
     "output_type": "stream",
     "text": [
      "Wine Dataset Results:\n",
      "LogisticRegression accuracy on wine: 0.9722\n"
     ]
    },
    {
     "name": "stderr",
     "output_type": "stream",
     "text": [
      "C:\\Users\\HP\\AppData\\Roaming\\Python\\Python311\\site-packages\\sklearn\\linear_model\\_logistic.py:465: ConvergenceWarning: lbfgs failed to converge (status=1):\n",
      "STOP: TOTAL NO. OF ITERATIONS REACHED LIMIT.\n",
      "\n",
      "Increase the number of iterations (max_iter) or scale the data as shown in:\n",
      "    https://scikit-learn.org/stable/modules/preprocessing.html\n",
      "Please also refer to the documentation for alternative solver options:\n",
      "    https://scikit-learn.org/stable/modules/linear_model.html#logistic-regression\n",
      "  n_iter_i = _check_optimize_result(\n"
     ]
    },
    {
     "name": "stdout",
     "output_type": "stream",
     "text": [
      "SVC accuracy on wine: 0.8056\n",
      "DecisionTreeClassifier accuracy on wine: 0.9444\n",
      "\n",
      "Sub-task 1: Decision Tree Random State Comparison\n",
      "DecisionTreeClassifier accuracy on wine (no random state): 0.9444\n",
      "DecisionTreeClassifier accuracy on wine (random_state=42): 0.9444\n",
      "DecisionTreeClassifier accuracy on wine (random_state=100): 0.9444\n",
      "\n",
      "Effect of random state change:\n",
      "Difference between no random state and random_state=42: 0.0000\n",
      "Difference between random_state=42 and random_state=100: 0.0000\n",
      "\n",
      "Sub-task 2: Breast Cancer Dataset Results:\n",
      "LogisticRegression accuracy on breast cancer: 0.9561\n",
      "SVC accuracy on breast cancer: 0.9474\n",
      "DecisionTreeClassifier accuracy on breast cancer: 0.9474\n",
      "\n",
      "Sub-task 3: Random Forest on Breast Cancer\n",
      "RandomForestClassifier accuracy on breast cancer: 0.9649\n"
     ]
    },
    {
     "data": {
      "text/plain": [
       "0.9649122807017544"
      ]
     },
     "execution_count": 2,
     "metadata": {},
     "output_type": "execute_result"
    }
   ],
   "source": [
    "# Import necessary libraries\n",
    "from sklearn.datasets import load_wine, load_breast_cancer\n",
    "from sklearn.model_selection import train_test_split\n",
    "from sklearn.linear_model import LogisticRegression\n",
    "from sklearn.svm import SVC\n",
    "from sklearn.tree import DecisionTreeClassifier\n",
    "from sklearn.ensemble import RandomForestClassifier\n",
    "from sklearn.metrics import accuracy_score\n",
    "import numpy as np\n",
    "\n",
    "# Load wine dataset\n",
    "wine = load_wine()\n",
    "X_wine = wine.data\n",
    "y_wine = wine.target\n",
    "\n",
    "# Split wine dataset\n",
    "X_wine_train, X_wine_test, y_wine_train, y_wine_test = train_test_split(\n",
    "    X_wine, y_wine, test_size=0.2, random_state=42\n",
    ")\n",
    "\n",
    "# Load breast cancer dataset\n",
    "cancer = load_breast_cancer()\n",
    "X_cancer = cancer.data\n",
    "y_cancer = cancer.target\n",
    "\n",
    "# Split breast cancer dataset\n",
    "X_cancer_train, X_cancer_test, y_cancer_train, y_cancer_test = train_test_split(\n",
    "    X_cancer, y_cancer, test_size=0.2, random_state=42\n",
    ")\n",
    "\n",
    "# Function to train and evaluate model\n",
    "def evaluate_model(model, X_train, X_test, y_train, y_test, dataset_name):\n",
    "    model.fit(X_train, y_train)\n",
    "    y_pred = model.predict(X_test)\n",
    "    accuracy = accuracy_score(y_test, y_pred)\n",
    "    print(f\"{model.__class__.__name__} accuracy on {dataset_name}: {accuracy:.4f}\")\n",
    "    return accuracy\n",
    "\n",
    "# Task I: Wine Classification\n",
    "print(\"Wine Dataset Results:\")\n",
    "# (a) Logistic Regression\n",
    "lr = LogisticRegression(random_state=42, max_iter=1000)\n",
    "evaluate_model(lr, X_wine_train, X_wine_test, y_wine_train, y_wine_test, \"wine\")\n",
    "\n",
    "# (b) Support Vector Machine\n",
    "svm = SVC(random_state=42)\n",
    "evaluate_model(svm, X_wine_train, X_wine_test, y_wine_train, y_wine_test, \"wine\")\n",
    "\n",
    "# (c) Decision Tree Classifier\n",
    "dt = DecisionTreeClassifier(random_state=42)\n",
    "evaluate_model(dt, X_wine_train, X_wine_test, y_wine_train, y_wine_test, \"wine\")\n",
    "\n",
    "# Sub-task 1: Decision Tree with different random state\n",
    "print(\"\\nSub-task 1: Decision Tree Random State Comparison\")\n",
    "dt_no_random = DecisionTreeClassifier()  # No random state\n",
    "dt_random_42 = DecisionTreeClassifier(random_state=42)\n",
    "dt_random_100 = DecisionTreeClassifier(random_state=100)\n",
    "\n",
    "# Train and evaluate with different random states\n",
    "acc_no_random = evaluate_model(dt_no_random, X_wine_train, X_wine_test, y_wine_train, y_wine_test, \"wine (no random state)\")\n",
    "acc_random_42 = evaluate_model(dt_random_42, X_wine_train, X_wine_test, y_wine_train, y_wine_test, \"wine (random_state=42)\")\n",
    "acc_random_100 = evaluate_model(dt_random_100, X_wine_train, X_wine_test, y_wine_train, y_wine_test, \"wine (random_state=100)\")\n",
    "\n",
    "print(\"\\nEffect of random state change:\")\n",
    "print(f\"Difference between no random state and random_state=42: {abs(acc_no_random - acc_random_42):.4f}\")\n",
    "print(f\"Difference between random_state=42 and random_state=100: {abs(acc_random_42 - acc_random_100):.4f}\")\n",
    "\n",
    "# Sub-task 2: Breast Cancer Classification\n",
    "print(\"\\nSub-task 2: Breast Cancer Dataset Results:\")\n",
    "# Logistic Regression\n",
    "lr_cancer = LogisticRegression(random_state=42, max_iter=5000)\n",
    "evaluate_model(lr_cancer, X_cancer_train, X_cancer_test, y_cancer_train, y_cancer_test, \"breast cancer\")\n",
    "\n",
    "# Support Vector Machine\n",
    "svm_cancer = SVC(random_state=42)\n",
    "evaluate_model(svm_cancer, X_cancer_train, X_cancer_test, y_cancer_train, y_cancer_test, \"breast cancer\")\n",
    "\n",
    "# Decision Tree Classifier\n",
    "dt_cancer = DecisionTreeClassifier(random_state=42)\n",
    "evaluate_model(dt_cancer, X_cancer_train, X_cancer_test, y_cancer_train, y_cancer_test, \"breast cancer\")\n",
    "\n",
    "# Sub-task 3: Random Forest on Breast Cancer\n",
    "print(\"\\nSub-task 3: Random Forest on Breast Cancer\")\n",
    "rf_cancer = RandomForestClassifier(random_state=42)\n",
    "evaluate_model(rf_cancer, X_cancer_train, X_cancer_test, y_cancer_train, y_cancer_test, \"breast cancer\")"
   ]
  },
  {
   "cell_type": "code",
   "execution_count": null,
   "id": "d5f47474-1ef6-42cc-856f-3a393f6b5a67",
   "metadata": {},
   "outputs": [],
   "source": []
  },
  {
   "cell_type": "code",
   "execution_count": null,
   "id": "95475fa9-5983-49e8-809d-bdeb173687e7",
   "metadata": {},
   "outputs": [],
   "source": []
  },
  {
   "cell_type": "code",
   "execution_count": null,
   "id": "f97ea46c-7d10-4378-b050-771246d361b3",
   "metadata": {},
   "outputs": [],
   "source": []
  }
 ],
 "metadata": {
  "kernelspec": {
   "display_name": "Python 3 (ipykernel)",
   "language": "python",
   "name": "python3"
  },
  "language_info": {
   "codemirror_mode": {
    "name": "ipython",
    "version": 3
   },
   "file_extension": ".py",
   "mimetype": "text/x-python",
   "name": "python",
   "nbconvert_exporter": "python",
   "pygments_lexer": "ipython3",
   "version": "3.11.7"
  }
 },
 "nbformat": 4,
 "nbformat_minor": 5
}
